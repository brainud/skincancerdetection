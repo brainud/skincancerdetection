{
 "cells": [
  {
   "cell_type": "code",
   "execution_count": 9,
   "metadata": {},
   "outputs": [],
   "source": [
    "import pandas as pd\n",
    "from sklearn import model_selection\n",
    "import os # for joining path"
   ]
  },
  {
   "cell_type": "code",
   "execution_count": 11,
   "metadata": {},
   "outputs": [],
   "source": [
    "if __name__ == \"__main__\" :\n",
    "    input_path = \"S:\\Skin Cancer Detection\\data\"\n",
    "    df = pd.read_csv(os.path.join(input_path, \"train.csv\"))\n",
    "    df[\"kfold\"] = -1\n",
    "    df = df.sample(frac = 1).reset_index(drop = True)  # Shuffled Dataframe\n",
    "    y = df.target.values\n",
    "    kf = model_selection.StratifiedKFold(n_splits = 10) # Stratified to keep the ratio between negative and positive to be same\n",
    "    for fold_, (train_idx, test_idx) in enumerate (kf.split(X = df, y=y)): # i and j are train & test index respectively\n",
    "        df.loc[test_idx, \"kfold\"] = fold_ # We just added a fold number to the column\n",
    "    # Save new dataframe\n",
    "    df.to_csv(os.path.join(input_path, \"train_folds.csv\"), index = False) # we don't need index to keep it same as original df\n",
    "        "
   ]
  },
  {
   "cell_type": "code",
   "execution_count": null,
   "metadata": {},
   "outputs": [],
   "source": []
  }
 ],
 "metadata": {
  "kernelspec": {
   "display_name": "Python 3.7.7 64-bit ('gpupytorc': conda)",
   "language": "python",
   "name": "python37764bitgpupytorccondaf59b79b220374cd9932702741fe76c47"
  },
  "language_info": {
   "codemirror_mode": {
    "name": "ipython",
    "version": 3
   },
   "file_extension": ".py",
   "mimetype": "text/x-python",
   "name": "python",
   "nbconvert_exporter": "python",
   "pygments_lexer": "ipython3",
   "version": "3.7.7"
  }
 },
 "nbformat": 4,
 "nbformat_minor": 4
}
