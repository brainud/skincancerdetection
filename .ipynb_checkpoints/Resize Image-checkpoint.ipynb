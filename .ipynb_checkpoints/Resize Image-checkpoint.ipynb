{
 "cells": [
  {
   "cell_type": "code",
   "execution_count": 1,
   "metadata": {},
   "outputs": [],
   "source": [
    "import os\n",
    "import glob\n",
    "from tqdm import tqdm\n",
    "from PIL import Image, ImageFile\n",
    "from joblib import Parallel, delayed\n",
    "\n",
    "ImageFile.LOAD_TRUNCATED_IMAGES = True"
   ]
  },
  {
   "cell_type": "code",
   "execution_count": 5,
   "metadata": {},
   "outputs": [],
   "source": [
    "def resize_image(image_path, output_folder, resize):\n",
    "    base_name = os.path.basename(image_path)\n",
    "    outpath = os.path.join(output_folder, base_name)\n",
    "    img = Image.open(image_path)\n",
    "    img = img.resize(\n",
    "            (resize[1], resize[0]), resample=Image.BILINEAR\n",
    "                    )\n",
    "    img.save(outpath)"
   ]
  },
  {
   "cell_type": "code",
   "execution_count": 6,
   "metadata": {},
   "outputs": [
    {
     "name": "stderr",
     "output_type": "stream",
     "text": [
      "0it [00:00, ?it/s]\n"
     ]
    },
    {
     "data": {
      "text/plain": [
       "[]"
      ]
     },
     "execution_count": 6,
     "metadata": {},
     "output_type": "execute_result"
    }
   ],
   "source": [
    "#Resize Train Images\n",
    "input_folder = \"\"\n",
    "output_folder = \"\"\n",
    "images = glob.glob(os.path.join(input_folder, \"*.jpg\")) # glob to make list of jpeg files\n",
    "Parallel(n_jobs = 12)(\n",
    "    delayed(resize_image)(\n",
    "        i,  # i is from for loop , looping over image paths\n",
    "        output_folder,\n",
    "        (512,512)\n",
    "    ) for i in tqdm(images)  \n",
    ")"
   ]
  },
  {
   "cell_type": "code",
   "execution_count": null,
   "metadata": {},
   "outputs": [],
   "source": [
    "#Resize Test Images\n",
    "input_folder = \"\"\n",
    "output_folder = \"\"\n",
    "images = glob.glob(os.path.join(input_folder, \"*.jpg\")) # glob to make list of jpeg files\n",
    "Parallel(n_jobs = 12)(\n",
    "    delayed(resize_image)(\n",
    "        i,\n",
    "        output_folder,\n",
    "        (512,512)\n",
    "    ) for i in tqdm(images)\n",
    ")"
   ]
  }
 ],
 "metadata": {
  "kernelspec": {
   "display_name": "Python 3.7.7 64-bit ('gpupytorc': conda)",
   "language": "python",
   "name": "python37764bitgpupytorccondaf59b79b220374cd9932702741fe76c47"
  },
  "language_info": {
   "codemirror_mode": {
    "name": "ipython",
    "version": 3
   },
   "file_extension": ".py",
   "mimetype": "text/x-python",
   "name": "python",
   "nbconvert_exporter": "python",
   "pygments_lexer": "ipython3",
   "version": "3.7.7"
  }
 },
 "nbformat": 4,
 "nbformat_minor": 4
}
